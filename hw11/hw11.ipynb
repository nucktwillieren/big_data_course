{
 "metadata": {
  "language_info": {
   "codemirror_mode": {
    "name": "ipython",
    "version": 3
   },
   "file_extension": ".py",
   "mimetype": "text/x-python",
   "name": "python",
   "nbconvert_exporter": "python",
   "pygments_lexer": "ipython3",
   "version": "3.8.5"
  },
  "orig_nbformat": 2,
  "kernelspec": {
   "name": "python385jvsc74a57bd0b3ba2566441a7c06988d0923437866b63cedc61552a5af99d1f4fb67d367b25f",
   "display_name": "Python 3.8.5 64-bit ('base': conda)"
  }
 },
 "nbformat": 4,
 "nbformat_minor": 2,
 "cells": [
  {
   "source": [
    "## P1 在NCU成績資料庫中，分離出有10人以上修課的必修、修課、通識和體育課程，計算前述每一課程中剛好得60分者占該課程修課學生人數的比例(以下簡稱R60)。"
   ],
   "cell_type": "markdown",
   "metadata": {}
  },
  {
   "cell_type": "code",
   "execution_count": 44,
   "metadata": {},
   "outputs": [],
   "source": [
    "import pandas as pd\n",
    "import seaborn as sns\n",
    "import matplotlib.pyplot as plt\n",
    "import glob\n",
    "\n",
    "sns.set(style='darkgrid', font='Microsoft JhengHei')"
   ]
  },
  {
   "cell_type": "code",
   "execution_count": 45,
   "metadata": {},
   "outputs": [],
   "source": [
    "data_list = glob.glob(\"data/10*.csv\")\n",
    "df = pd.concat([pd.read_csv(data_file) for data_file in data_list])\n",
    "\n",
    "info_list = glob.glob(\"data/basic_info*.csv\")\n",
    "info_df = pd.concat([pd.read_csv(data_file) for data_file in info_list])"
   ]
  },
  {
   "cell_type": "code",
   "execution_count": 60,
   "metadata": {},
   "outputs": [
    {
     "output_type": "stream",
     "name": "stdout",
     "text": [
      "                                       學號  學年學期 課程屬性          課號         課名  \\\n0        ea9f4b3cba8715da8785f8cc18f77061  1001   必修  IM3003         作業研究 Ⅰ   \n1        ea9f4b3cba8715da8785f8cc18f77061  1001   必修  IM3070           組織行為   \n2        ea9f4b3cba8715da8785f8cc18f77061  1001   選修  BA8066      電子與資訊產業概論   \n4        ea9f4b3cba8715da8785f8cc18f77061  1001   選修  IM3059            行銷學   \n5        ea9f4b3cba8715da8785f8cc18f77061  1001   選修  IM2030           財務管理   \n...                                   ...   ...  ...         ...        ...   \n1490207  097714d8fc14d5c9603d352db70c9e39  1082   選修  SE6008           敏捷方法   \n1490213  20784f8d7ae5b1defccd37ced7287178  1082   必修  AS6002          書報討論Ⅱ   \n1490214  20784f8d7ae5b1defccd37ced7287178  1082   選修  AS6044           資料分析   \n1490215  20784f8d7ae5b1defccd37ced7287178  1082   選修  AS6096         天文期刊寫作   \n1490216  20784f8d7ae5b1defccd37ced7287178  1082   選修  LN0605          華語聽說一   \n\n           成績  \n0        72.0  \n1        75.0  \n2        85.0  \n4        74.0  \n5        70.0  \n...       ...  \n1490207  91.0  \n1490213  82.0  \n1490214  50.0  \n1490215  80.0  \n1490216  86.0  \n\n[1112776 rows x 6 columns]\n"
     ]
    }
   ],
   "source": [
    "inner_merged_data = pd.merge(df, info_df, left_on=\"學號\", right_on=\"去識別化學號\")\n",
    "inner_merged_data.dropna(subset=[\"成績\",\"課程屬性\"], inplace=True)\n",
    "inner_merged_data['課程屬性'] = inner_merged_data['課程屬性'].str.strip()\n",
    "inner_merged_data = inner_merged_data[inner_merged_data['課程屬性'].isin(['必修','選修','通識','體育'])].loc[:,[\"學號\", '學年學期','課程屬性','課號', '課名','成績']]\n",
    "print(inner_merged_data)"
   ]
  },
  {
   "cell_type": "code",
   "execution_count": 64,
   "metadata": {},
   "outputs": [
    {
     "output_type": "stream",
     "name": "stdout",
     "text": [
      "      課程屬性        課名          課號  學年學期   0\n18      必修  BIM與電腦應用  CN5105      1011  12\n19      必修  BIM與電腦應用  CN5105      1021  18\n20      必修  BIM與電腦應用  CN5105      1031  17\n21      必修  BIM與電腦應用  CN5105      1041  23\n22      必修  BIM與電腦應用  CN5105      1051  22\n...    ...       ...         ...   ...  ..\n30035   體育     高爾夫入門  PE4151      1022  12\n30036   體育     高爾夫入門  PE4151      1031  12\n30037   體育     高爾夫入門  PE4151      1032  14\n30043   體育     高爾夫入門  PE4151      1062  16\n30047   體育     高爾夫入門  PE4151      1082  16\n\n[19952 rows x 5 columns]\n"
     ]
    }
   ],
   "source": [
    "counts = inner_merged_data.groupby(['課程屬性', \"課名\", '課號', '學年學期']).size().reset_index()\n",
    "counts = counts[(counts[0]>=10)]\n",
    "print(counts)"
   ]
  },
  {
   "cell_type": "code",
   "execution_count": 68,
   "metadata": {},
   "outputs": [],
   "source": [
    "counts_60 = inner_merged_data.groupby(['課程屬性', \"課名\", '課號', '學年學期'])['成績']"
   ]
  },
  {
   "source": [
    "## P2  你可以想到哪些被資料庫收錄，或是可以根據資料庫推算的資訊會影響R60嗎？請說明這些因素的意義與計算方式，並且為每個因素與R60繪製scatter plot。"
   ],
   "cell_type": "markdown",
   "metadata": {}
  },
  {
   "cell_type": "code",
   "execution_count": null,
   "metadata": {},
   "outputs": [],
   "source": []
  },
  {
   "source": [
    "## P3 請分別以Linear regression, Ridge Regression, 和 Lasso Regression建立線性迴歸模型，驗証上述因素對於R60的影響。"
   ],
   "cell_type": "markdown",
   "metadata": {}
  },
  {
   "cell_type": "code",
   "execution_count": null,
   "metadata": {},
   "outputs": [],
   "source": []
  },
  {
   "source": [
    "## P4 請分別以Linear Regression, Ridge Regression和Lasso Regression 建立模型描述台灣過去九年的氣候條件( 溫度、雨量、相對溼度、測站氣壓、降水日數)與月份之間的關連性。"
   ],
   "cell_type": "markdown",
   "metadata": {}
  },
  {
   "cell_type": "code",
   "execution_count": null,
   "metadata": {},
   "outputs": [],
   "source": []
  }
 ]
}